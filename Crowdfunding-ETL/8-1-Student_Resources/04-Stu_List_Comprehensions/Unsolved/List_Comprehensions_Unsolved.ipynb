{
 "cells": [
  {
   "cell_type": "markdown",
   "metadata": {},
   "source": [
    "### Remember the modulo operator (%) !\n",
    "`x % y` gives the remainder if `x` is divided by `y`. So, for instance `x % 2` will be `0` when x is even, and `1` when x is odd"
   ]
  },
  {
   "cell_type": "code",
   "execution_count": 1,
   "metadata": {},
   "outputs": [
    {
     "data": {
      "text/plain": [
       "[0,\n",
       " 3,\n",
       " 6,\n",
       " 9,\n",
       " 12,\n",
       " 15,\n",
       " 18,\n",
       " 21,\n",
       " 24,\n",
       " 27,\n",
       " 30,\n",
       " 33,\n",
       " 36,\n",
       " 39,\n",
       " 42,\n",
       " 45,\n",
       " 48,\n",
       " 51,\n",
       " 54,\n",
       " 57,\n",
       " 60,\n",
       " 63,\n",
       " 66,\n",
       " 69,\n",
       " 72,\n",
       " 75,\n",
       " 78,\n",
       " 81,\n",
       " 84,\n",
       " 87,\n",
       " 90,\n",
       " 93,\n",
       " 96,\n",
       " 99]"
      ]
     },
     "execution_count": 1,
     "metadata": {},
     "output_type": "execute_result"
    }
   ],
   "source": [
    "# Make a list of numbers up to 100 that are divisible by three.\n",
    "list_numbs = [x for x in range(101) if x%3 ==0]\n",
    "list_numbs"
   ]
  },
  {
   "cell_type": "code",
   "execution_count": 2,
   "metadata": {},
   "outputs": [
    {
     "data": {
      "text/plain": [
       "[0,\n",
       " 1,\n",
       " 2,\n",
       " 4,\n",
       " 5,\n",
       " 7,\n",
       " 8,\n",
       " 10,\n",
       " 11,\n",
       " 13,\n",
       " 14,\n",
       " 15,\n",
       " 16,\n",
       " 17,\n",
       " 19,\n",
       " 20,\n",
       " 22,\n",
       " 23,\n",
       " 25,\n",
       " 26,\n",
       " 28,\n",
       " 29,\n",
       " 30,\n",
       " 31,\n",
       " 32,\n",
       " 34,\n",
       " 35,\n",
       " 37,\n",
       " 38,\n",
       " 40,\n",
       " 41,\n",
       " 43,\n",
       " 44,\n",
       " 45,\n",
       " 46,\n",
       " 47,\n",
       " 49,\n",
       " 50,\n",
       " 52,\n",
       " 53,\n",
       " 55,\n",
       " 56,\n",
       " 58,\n",
       " 59,\n",
       " 60,\n",
       " 61,\n",
       " 62,\n",
       " 64,\n",
       " 65,\n",
       " 67,\n",
       " 68,\n",
       " 70,\n",
       " 71,\n",
       " 73,\n",
       " 74,\n",
       " 75,\n",
       " 76,\n",
       " 77,\n",
       " 79,\n",
       " 80,\n",
       " 82,\n",
       " 83,\n",
       " 85,\n",
       " 86,\n",
       " 88,\n",
       " 89,\n",
       " 90,\n",
       " 91,\n",
       " 92,\n",
       " 94,\n",
       " 95,\n",
       " 97,\n",
       " 98,\n",
       " 100]"
      ]
     },
     "execution_count": 2,
     "metadata": {},
     "output_type": "execute_result"
    }
   ],
   "source": [
    "# Make a list of numbers up to 100 that are divisible by three OR divisible by five\n",
    "list_numbs2 = [x for x in range(101) if x%3 or x%5 ==0]\n",
    "list_numbs2"
   ]
  },
  {
   "cell_type": "code",
   "execution_count": 3,
   "metadata": {},
   "outputs": [
    {
     "data": {
      "text/plain": [
       "['Fido', 'Rex', 'Springer']"
      ]
     },
     "execution_count": 3,
     "metadata": {},
     "output_type": "execute_result"
    }
   ],
   "source": [
    "# Use conditional list comprehensions to create a list of all the pet dog names.\n",
    "pets = [{\n",
    "    'name': 'Fido',\n",
    "    'age': 4,\n",
    "    'type': 'dog'\n",
    "}, {\n",
    "    'name': 'Rex',\n",
    "    'age': 2,\n",
    "    'type': 'dog'\n",
    "}, {\n",
    "    'name': 'Puddles',\n",
    "    'age': 7,\n",
    "    'type': 'wombat'\n",
    "}, {\n",
    "    'name': 'Tuna',\n",
    "    'age': 6,\n",
    "    'type': 'cat'\n",
    "}, {\n",
    "    'name': 'Springer',\n",
    "    'age': 5,\n",
    "    'type': 'dog'\n",
    "}]\n",
    "\n",
    "dog_names = [pet['name'] for pet in pets if pet['type'] == 'dog']\n",
    "dog_names"
   ]
  },
  {
   "cell_type": "code",
   "execution_count": 4,
   "metadata": {},
   "outputs": [
    {
     "data": {
      "text/plain": [
       "[['400021', 'Adrianna Raysor', 'adrianna.raysor@360.cn'],\n",
       " ['400064', 'Amberly Kerfie', 'a.kerfie@instagram.com'],\n",
       " ['400042', 'Angelique Kleiner', 'a.klein@google.com'],\n",
       " ['400059', 'Arleen Bergman', 'arleen.bergman@friendfeed.com'],\n",
       " ['400006', 'Arlinda McBrayer', 'amcbrayer@scribd.com'],\n",
       " ['400014', 'Astrid Brewster', 'a.brewster@homestead.com'],\n",
       " ['400027', 'Ayanna Filippelli', 'ayanna@reddit.com']]"
      ]
     },
     "execution_count": 4,
     "metadata": {},
     "output_type": "execute_result"
    }
   ],
   "source": [
    "# Use a list comprehension to create a list containing three items; a \"customer_id\", \n",
    "# \"name\", and \"email\" for each customer in the customers list.  \n",
    "customers = [\"400021,Adrianna Raysor,adrianna.raysor@360.cn\",\n",
    "\"400064,Amberly Kerfie,a.kerfie@instagram.com\",\n",
    "\"400042,Angelique Kleiner,a.klein@google.com\",\n",
    "\"400059,Arleen Bergman,arleen.bergman@friendfeed.com\",\n",
    "\"400006,Arlinda McBrayer,amcbrayer@scribd.com\",\n",
    "\"400014,Astrid Brewster,a.brewster@homestead.com\",\n",
    "\"400027,Ayanna Filippelli,ayanna@reddit.com\"]\n",
    "\n",
    "split_list = [x.split(\",\") for x in customers]\n",
    "split_list"
   ]
  },
  {
   "cell_type": "code",
   "execution_count": 5,
   "metadata": {},
   "outputs": [
    {
     "data": {
      "text/plain": [
       "[400021, 400064, 400042, 400059, 400006, 400014, 400027]"
      ]
     },
     "execution_count": 5,
     "metadata": {},
     "output_type": "execute_result"
    }
   ],
   "source": [
    "# Use a list comprehension to extract the \"customer_id\" from each customer in the customers list \n",
    "# and then convert the \"customer_id\" to an integer.\n",
    "\n",
    "cust_id = [int(x.split(\",\")[0]) for x in customers]\n",
    "cust_id"
   ]
  },
  {
   "cell_type": "code",
   "execution_count": 6,
   "metadata": {},
   "outputs": [
    {
     "data": {
      "text/plain": [
       "[['Adrianna', 'Raysor'],\n",
       " ['Amberly', 'Kerfie'],\n",
       " ['Angelique', 'Kleiner'],\n",
       " ['Arleen', 'Bergman'],\n",
       " ['Arlinda', 'McBrayer'],\n",
       " ['Astrid', 'Brewster'],\n",
       " ['Ayanna', 'Filippelli']]"
      ]
     },
     "execution_count": 6,
     "metadata": {},
     "output_type": "execute_result"
    }
   ],
   "source": [
    "# Use a list comprehension to split each customer \"name\" into a first and last name. \n",
    "cust_name = [x.split(\",\")[1].split(\" \") for x in customers]\n",
    "cust_name"
   ]
  },
  {
   "cell_type": "code",
   "execution_count": null,
   "metadata": {},
   "outputs": [],
   "source": []
  }
 ],
 "metadata": {
  "kernelspec": {
   "display_name": "Python 3 (ipykernel)",
   "language": "python",
   "name": "python3"
  },
  "language_info": {
   "codemirror_mode": {
    "name": "ipython",
    "version": 3
   },
   "file_extension": ".py",
   "mimetype": "text/x-python",
   "name": "python",
   "nbconvert_exporter": "python",
   "pygments_lexer": "ipython3",
   "version": "3.9.13"
  }
 },
 "nbformat": 4,
 "nbformat_minor": 2
}
